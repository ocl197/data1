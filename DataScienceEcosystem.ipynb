{
  "metadata": {
    "kernelspec": {
      "name": "python",
      "display_name": "Python (Pyodide)",
      "language": "python"
    },
    "language_info": {
      "codemirror_mode": {
        "name": "python",
        "version": 3
      },
      "file_extension": ".py",
      "mimetype": "text/x-python",
      "name": "python",
      "nbconvert_exporter": "python",
      "pygments_lexer": "ipython3",
      "version": "3.8"
    }
  },
  "nbformat_minor": 4,
  "nbformat": 4,
  "cells": [
    {
      "cell_type": "markdown",
      "source": "<h1>Data Science Tools and Ecosystem</h1>",
      "metadata": {}
    },
    {
      "cell_type": "markdown",
      "source": "<p>In this notebook, Data Science Tools and Ecosystem are summarized</p>",
      "metadata": {}
    },
    {
      "cell_type": "markdown",
      "source": "<p>Some of the popular languages that Data Scientists use are:</p>",
      "metadata": {}
    },
    {
      "cell_type": "markdown",
      "source": "<ol>\n    <li>Python</li>\n    <li>R</li>\n    <li>c++</li>\n</ol>",
      "metadata": {}
    },
    {
      "cell_type": "markdown",
      "source": "<p>Some of the commonly used libraries used by Data Scientists include:</p>",
      "metadata": {}
    },
    {
      "cell_type": "markdown",
      "source": "<oL>\n    <li>tensorflow</li>\n    <li>numpy</li>\n    <li>Pandas</li>\n</oL>",
      "metadata": {}
    },
    {
      "cell_type": "markdown",
      "source": "<table>\r\n    <thead>\r\n        <tr>\r\n            <th>Data Science Tools</th>\r\n        </tr>\r\n    </thead>\r\n    <tbody>\r\n        <tr>\r\n            diostupy\n        </tr>der</td>\r\n  \n        <tr>\n            <td>Jupyter Notebooks</td>\n        </tr>\n        <tr>\n            <td>Spyder</td>\n        </    </tr>\r\n    </tbody>\r\n</table>",
      "metadata": {}
    },
    {
      "cell_type": "markdown",
      "source": "<h3>Below are a few examples of evaluating arithmetic expressions in Python</h3>",
      "metadata": {}
    },
    {
      "cell_type": "markdown",
      "source": "//This a simple arithmetic expression to mutiply then add integers",
      "metadata": {}
    },
    {
      "cell_type": "code",
      "source": "(3*4)+5",
      "metadata": {
        "trusted": true
      },
      "outputs": [
        {
          "execution_count": 2,
          "output_type": "execute_result",
          "data": {
            "text/plain": "17"
          },
          "metadata": {}
        }
      ],
      "execution_count": 2
    },
    {
      "cell_type": "markdown",
      "source": "//This will convert 200 minutes to hours by diving by 60",
      "metadata": {}
    },
    {
      "cell_type": "code",
      "source": "200/60\n",
      "metadata": {
        "trusted": true
      },
      "outputs": [
        {
          "execution_count": 3,
          "output_type": "execute_result",
          "data": {
            "text/plain": "3.3333333333333335"
          },
          "metadata": {}
        }
      ],
      "execution_count": 3
    },
    {
      "cell_type": "markdown",
      "source": "<p><b>Objectives:</b></p>\n<ul>\n    <li>List popular languages for datascience</li>\n    <li>List popular libraries for datascience</li>\n    <li>List popular datascience integrated development software</li>\n</ul>",
      "metadata": {}
    },
    {
      "cell_type": "markdown",
      "source": "<h2>Author</h2>\n<p>Oliver Lowe</p>",
      "metadata": {}
    }
  ]
}